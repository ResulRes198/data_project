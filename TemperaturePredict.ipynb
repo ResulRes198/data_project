{
 "cells": [
  {
   "cell_type": "code",
   "execution_count": 2,
   "id": "5eacdcea",
   "metadata": {},
   "outputs": [],
   "source": [
    "import numpy as np\n",
    "import pandas as pd\n",
    "import matplotlib.pyplot as plt\n",
    "import seaborn as sns\n",
    "\n",
    "\n",
    "%matplotlib inline"
   ]
  },
  {
   "cell_type": "markdown",
   "id": "910520e3",
   "metadata": {},
   "source": [
    "### I converted the GlobalLandTemperaturesByCity dataset into a dataframe"
   ]
  },
  {
   "cell_type": "code",
   "execution_count": 3,
   "id": "c4ea28e8",
   "metadata": {},
   "outputs": [
    {
     "data": {
      "text/html": [
       "<div>\n",
       "<style scoped>\n",
       "    .dataframe tbody tr th:only-of-type {\n",
       "        vertical-align: middle;\n",
       "    }\n",
       "\n",
       "    .dataframe tbody tr th {\n",
       "        vertical-align: top;\n",
       "    }\n",
       "\n",
       "    .dataframe thead th {\n",
       "        text-align: right;\n",
       "    }\n",
       "</style>\n",
       "<table border=\"1\" class=\"dataframe\">\n",
       "  <thead>\n",
       "    <tr style=\"text-align: right;\">\n",
       "      <th></th>\n",
       "      <th>dt</th>\n",
       "      <th>AverageTemperature</th>\n",
       "      <th>AverageTemperatureUncertainty</th>\n",
       "      <th>City</th>\n",
       "      <th>Country</th>\n",
       "      <th>Latitude</th>\n",
       "      <th>Longitude</th>\n",
       "    </tr>\n",
       "  </thead>\n",
       "  <tbody>\n",
       "    <tr>\n",
       "      <th>0</th>\n",
       "      <td>1743-11-01</td>\n",
       "      <td>6.068</td>\n",
       "      <td>1.737</td>\n",
       "      <td>Århus</td>\n",
       "      <td>Denmark</td>\n",
       "      <td>57.05N</td>\n",
       "      <td>10.33E</td>\n",
       "    </tr>\n",
       "    <tr>\n",
       "      <th>1</th>\n",
       "      <td>1743-12-01</td>\n",
       "      <td>NaN</td>\n",
       "      <td>NaN</td>\n",
       "      <td>Århus</td>\n",
       "      <td>Denmark</td>\n",
       "      <td>57.05N</td>\n",
       "      <td>10.33E</td>\n",
       "    </tr>\n",
       "    <tr>\n",
       "      <th>2</th>\n",
       "      <td>1744-01-01</td>\n",
       "      <td>NaN</td>\n",
       "      <td>NaN</td>\n",
       "      <td>Århus</td>\n",
       "      <td>Denmark</td>\n",
       "      <td>57.05N</td>\n",
       "      <td>10.33E</td>\n",
       "    </tr>\n",
       "    <tr>\n",
       "      <th>3</th>\n",
       "      <td>1744-02-01</td>\n",
       "      <td>NaN</td>\n",
       "      <td>NaN</td>\n",
       "      <td>Århus</td>\n",
       "      <td>Denmark</td>\n",
       "      <td>57.05N</td>\n",
       "      <td>10.33E</td>\n",
       "    </tr>\n",
       "    <tr>\n",
       "      <th>4</th>\n",
       "      <td>1744-03-01</td>\n",
       "      <td>NaN</td>\n",
       "      <td>NaN</td>\n",
       "      <td>Århus</td>\n",
       "      <td>Denmark</td>\n",
       "      <td>57.05N</td>\n",
       "      <td>10.33E</td>\n",
       "    </tr>\n",
       "    <tr>\n",
       "      <th>5</th>\n",
       "      <td>1744-04-01</td>\n",
       "      <td>5.788</td>\n",
       "      <td>3.624</td>\n",
       "      <td>Århus</td>\n",
       "      <td>Denmark</td>\n",
       "      <td>57.05N</td>\n",
       "      <td>10.33E</td>\n",
       "    </tr>\n",
       "  </tbody>\n",
       "</table>\n",
       "</div>"
      ],
      "text/plain": [
       "           dt  AverageTemperature  AverageTemperatureUncertainty   City  \\\n",
       "0  1743-11-01               6.068                          1.737  Århus   \n",
       "1  1743-12-01                 NaN                            NaN  Århus   \n",
       "2  1744-01-01                 NaN                            NaN  Århus   \n",
       "3  1744-02-01                 NaN                            NaN  Århus   \n",
       "4  1744-03-01                 NaN                            NaN  Århus   \n",
       "5  1744-04-01               5.788                          3.624  Århus   \n",
       "\n",
       "   Country Latitude Longitude  \n",
       "0  Denmark   57.05N    10.33E  \n",
       "1  Denmark   57.05N    10.33E  \n",
       "2  Denmark   57.05N    10.33E  \n",
       "3  Denmark   57.05N    10.33E  \n",
       "4  Denmark   57.05N    10.33E  \n",
       "5  Denmark   57.05N    10.33E  "
      ]
     },
     "execution_count": 3,
     "metadata": {},
     "output_type": "execute_result"
    }
   ],
   "source": [
    "dtee = pd.read_csv(r\"GlobalLandTemperaturesByCity.csv\")\n",
    "dtee.head(6)"
   ]
  },
  {
   "cell_type": "code",
   "execution_count": 4,
   "id": "7263b815",
   "metadata": {},
   "outputs": [
    {
     "data": {
      "text/plain": [
       "(8599212, 7)"
      ]
     },
     "execution_count": 4,
     "metadata": {},
     "output_type": "execute_result"
    }
   ],
   "source": [
    "dtee.shape"
   ]
  },
  {
   "cell_type": "markdown",
   "id": "aa2cad38",
   "metadata": {},
   "source": [
    "### I dropped the columns I won't use"
   ]
  },
  {
   "cell_type": "code",
   "execution_count": 5,
   "id": "c9d90c46",
   "metadata": {},
   "outputs": [
    {
     "data": {
      "text/html": [
       "<div>\n",
       "<style scoped>\n",
       "    .dataframe tbody tr th:only-of-type {\n",
       "        vertical-align: middle;\n",
       "    }\n",
       "\n",
       "    .dataframe tbody tr th {\n",
       "        vertical-align: top;\n",
       "    }\n",
       "\n",
       "    .dataframe thead th {\n",
       "        text-align: right;\n",
       "    }\n",
       "</style>\n",
       "<table border=\"1\" class=\"dataframe\">\n",
       "  <thead>\n",
       "    <tr style=\"text-align: right;\">\n",
       "      <th></th>\n",
       "      <th>dt</th>\n",
       "      <th>AverageTemperature</th>\n",
       "      <th>Country</th>\n",
       "    </tr>\n",
       "  </thead>\n",
       "  <tbody>\n",
       "    <tr>\n",
       "      <th>0</th>\n",
       "      <td>1743-11-01</td>\n",
       "      <td>6.068</td>\n",
       "      <td>Denmark</td>\n",
       "    </tr>\n",
       "    <tr>\n",
       "      <th>1</th>\n",
       "      <td>1743-12-01</td>\n",
       "      <td>NaN</td>\n",
       "      <td>Denmark</td>\n",
       "    </tr>\n",
       "    <tr>\n",
       "      <th>2</th>\n",
       "      <td>1744-01-01</td>\n",
       "      <td>NaN</td>\n",
       "      <td>Denmark</td>\n",
       "    </tr>\n",
       "    <tr>\n",
       "      <th>3</th>\n",
       "      <td>1744-02-01</td>\n",
       "      <td>NaN</td>\n",
       "      <td>Denmark</td>\n",
       "    </tr>\n",
       "    <tr>\n",
       "      <th>4</th>\n",
       "      <td>1744-03-01</td>\n",
       "      <td>NaN</td>\n",
       "      <td>Denmark</td>\n",
       "    </tr>\n",
       "    <tr>\n",
       "      <th>...</th>\n",
       "      <td>...</td>\n",
       "      <td>...</td>\n",
       "      <td>...</td>\n",
       "    </tr>\n",
       "    <tr>\n",
       "      <th>8599207</th>\n",
       "      <td>2013-05-01</td>\n",
       "      <td>11.464</td>\n",
       "      <td>Netherlands</td>\n",
       "    </tr>\n",
       "    <tr>\n",
       "      <th>8599208</th>\n",
       "      <td>2013-06-01</td>\n",
       "      <td>15.043</td>\n",
       "      <td>Netherlands</td>\n",
       "    </tr>\n",
       "    <tr>\n",
       "      <th>8599209</th>\n",
       "      <td>2013-07-01</td>\n",
       "      <td>18.775</td>\n",
       "      <td>Netherlands</td>\n",
       "    </tr>\n",
       "    <tr>\n",
       "      <th>8599210</th>\n",
       "      <td>2013-08-01</td>\n",
       "      <td>18.025</td>\n",
       "      <td>Netherlands</td>\n",
       "    </tr>\n",
       "    <tr>\n",
       "      <th>8599211</th>\n",
       "      <td>2013-09-01</td>\n",
       "      <td>NaN</td>\n",
       "      <td>Netherlands</td>\n",
       "    </tr>\n",
       "  </tbody>\n",
       "</table>\n",
       "<p>8599212 rows × 3 columns</p>\n",
       "</div>"
      ],
      "text/plain": [
       "                 dt  AverageTemperature      Country\n",
       "0        1743-11-01               6.068      Denmark\n",
       "1        1743-12-01                 NaN      Denmark\n",
       "2        1744-01-01                 NaN      Denmark\n",
       "3        1744-02-01                 NaN      Denmark\n",
       "4        1744-03-01                 NaN      Denmark\n",
       "...             ...                 ...          ...\n",
       "8599207  2013-05-01              11.464  Netherlands\n",
       "8599208  2013-06-01              15.043  Netherlands\n",
       "8599209  2013-07-01              18.775  Netherlands\n",
       "8599210  2013-08-01              18.025  Netherlands\n",
       "8599211  2013-09-01                 NaN  Netherlands\n",
       "\n",
       "[8599212 rows x 3 columns]"
      ]
     },
     "execution_count": 5,
     "metadata": {},
     "output_type": "execute_result"
    }
   ],
   "source": [
    "dte = dtee.drop(columns=['AverageTemperatureUncertainty', 'City', 'Latitude', 'Longitude'])\n",
    "dte"
   ]
  },
  {
   "cell_type": "markdown",
   "id": "eca591fe",
   "metadata": {},
   "source": [
    "### I dropped nan values"
   ]
  },
  {
   "cell_type": "code",
   "execution_count": 6,
   "id": "70b80705",
   "metadata": {},
   "outputs": [
    {
     "data": {
      "text/html": [
       "<div>\n",
       "<style scoped>\n",
       "    .dataframe tbody tr th:only-of-type {\n",
       "        vertical-align: middle;\n",
       "    }\n",
       "\n",
       "    .dataframe tbody tr th {\n",
       "        vertical-align: top;\n",
       "    }\n",
       "\n",
       "    .dataframe thead th {\n",
       "        text-align: right;\n",
       "    }\n",
       "</style>\n",
       "<table border=\"1\" class=\"dataframe\">\n",
       "  <thead>\n",
       "    <tr style=\"text-align: right;\">\n",
       "      <th></th>\n",
       "      <th>dt</th>\n",
       "      <th>AverageTemperature</th>\n",
       "      <th>Country</th>\n",
       "    </tr>\n",
       "  </thead>\n",
       "  <tbody>\n",
       "    <tr>\n",
       "      <th>0</th>\n",
       "      <td>1743-11-01</td>\n",
       "      <td>6.068</td>\n",
       "      <td>Denmark</td>\n",
       "    </tr>\n",
       "    <tr>\n",
       "      <th>5</th>\n",
       "      <td>1744-04-01</td>\n",
       "      <td>5.788</td>\n",
       "      <td>Denmark</td>\n",
       "    </tr>\n",
       "    <tr>\n",
       "      <th>6</th>\n",
       "      <td>1744-05-01</td>\n",
       "      <td>10.644</td>\n",
       "      <td>Denmark</td>\n",
       "    </tr>\n",
       "    <tr>\n",
       "      <th>7</th>\n",
       "      <td>1744-06-01</td>\n",
       "      <td>14.051</td>\n",
       "      <td>Denmark</td>\n",
       "    </tr>\n",
       "    <tr>\n",
       "      <th>8</th>\n",
       "      <td>1744-07-01</td>\n",
       "      <td>16.082</td>\n",
       "      <td>Denmark</td>\n",
       "    </tr>\n",
       "    <tr>\n",
       "      <th>...</th>\n",
       "      <td>...</td>\n",
       "      <td>...</td>\n",
       "      <td>...</td>\n",
       "    </tr>\n",
       "    <tr>\n",
       "      <th>8599206</th>\n",
       "      <td>2013-04-01</td>\n",
       "      <td>7.710</td>\n",
       "      <td>Netherlands</td>\n",
       "    </tr>\n",
       "    <tr>\n",
       "      <th>8599207</th>\n",
       "      <td>2013-05-01</td>\n",
       "      <td>11.464</td>\n",
       "      <td>Netherlands</td>\n",
       "    </tr>\n",
       "    <tr>\n",
       "      <th>8599208</th>\n",
       "      <td>2013-06-01</td>\n",
       "      <td>15.043</td>\n",
       "      <td>Netherlands</td>\n",
       "    </tr>\n",
       "    <tr>\n",
       "      <th>8599209</th>\n",
       "      <td>2013-07-01</td>\n",
       "      <td>18.775</td>\n",
       "      <td>Netherlands</td>\n",
       "    </tr>\n",
       "    <tr>\n",
       "      <th>8599210</th>\n",
       "      <td>2013-08-01</td>\n",
       "      <td>18.025</td>\n",
       "      <td>Netherlands</td>\n",
       "    </tr>\n",
       "  </tbody>\n",
       "</table>\n",
       "<p>8235082 rows × 3 columns</p>\n",
       "</div>"
      ],
      "text/plain": [
       "                 dt  AverageTemperature      Country\n",
       "0        1743-11-01               6.068      Denmark\n",
       "5        1744-04-01               5.788      Denmark\n",
       "6        1744-05-01              10.644      Denmark\n",
       "7        1744-06-01              14.051      Denmark\n",
       "8        1744-07-01              16.082      Denmark\n",
       "...             ...                 ...          ...\n",
       "8599206  2013-04-01               7.710  Netherlands\n",
       "8599207  2013-05-01              11.464  Netherlands\n",
       "8599208  2013-06-01              15.043  Netherlands\n",
       "8599209  2013-07-01              18.775  Netherlands\n",
       "8599210  2013-08-01              18.025  Netherlands\n",
       "\n",
       "[8235082 rows x 3 columns]"
      ]
     },
     "execution_count": 6,
     "metadata": {},
     "output_type": "execute_result"
    }
   ],
   "source": [
    "dte = dte.dropna()\n",
    "dte"
   ]
  },
  {
   "cell_type": "markdown",
   "id": "646d6d5f",
   "metadata": {},
   "source": [
    "### Graph showing the temperature change over the years by converting the exact dates in the dataframe to years"
   ]
  },
  {
   "cell_type": "code",
   "execution_count": 7,
   "id": "b1cf055a",
   "metadata": {},
   "outputs": [
    {
     "name": "stderr",
     "output_type": "stream",
     "text": [
      "C:\\Users\\90539\\AppData\\Local\\Temp\\ipykernel_23524\\2463799025.py:1: SettingWithCopyWarning: \n",
      "A value is trying to be set on a copy of a slice from a DataFrame.\n",
      "Try using .loc[row_indexer,col_indexer] = value instead\n",
      "\n",
      "See the caveats in the documentation: https://pandas.pydata.org/pandas-docs/stable/user_guide/indexing.html#returning-a-view-versus-a-copy\n",
      "  dte['dt'] = pd.to_datetime(dte.dt).dt.strftime('%d/%m/%Y')\n",
      "C:\\Users\\90539\\AppData\\Local\\Temp\\ipykernel_23524\\2463799025.py:2: SettingWithCopyWarning: \n",
      "A value is trying to be set on a copy of a slice from a DataFrame.\n",
      "Try using .loc[row_indexer,col_indexer] = value instead\n",
      "\n",
      "See the caveats in the documentation: https://pandas.pydata.org/pandas-docs/stable/user_guide/indexing.html#returning-a-view-versus-a-copy\n",
      "  dte['dt'] = dte['dt'].apply(lambda x:x[6:])\n"
     ]
    },
    {
     "data": {
      "text/plain": [
       "<AxesSubplot:title={'center':'Average Global Temperature Movement'}, xlabel='Date (1750 - 2015)', ylabel='Average Global Temperature'>"
      ]
     },
     "execution_count": 7,
     "metadata": {},
     "output_type": "execute_result"
    },
    {
     "data": {
      "image/png": "[encoded data removed]",
      "text/plain": [
       "<Figure size 1152x432 with 1 Axes>"
      ]
     },
     "metadata": {
      "needs_background": "light"
     },
     "output_type": "display_data"
    }
   ],
   "source": [
    "dte['dt'] = pd.to_datetime(dte.dt).dt.strftime('%d/%m/%Y')\n",
    "dte['dt'] = dte['dt'].apply(lambda x:x[6:])\n",
    "dte = dte.groupby(['dt'])['AverageTemperature'].mean().reset_index()\n",
    "\n",
    "plt.figure(figsize =(16, 6))\n",
    "ax = sns.lineplot(\n",
    "    x = dte['dt'],\n",
    "    y = dte['AverageTemperature'])\n",
    "ax.set_title('Average Global Temperature Movement')\n",
    "ax.set_ylabel('Average Global Temperature')\n",
    "ax.set_xlabel('Date (1750 - 2015)')\n",
    "#ax.axes.get_xaxis().set_ticks([])\n",
    "ax"
   ]
  },
  {
   "cell_type": "code",
   "execution_count": 8,
   "id": "ea5611e8",
   "metadata": {},
   "outputs": [
    {
     "data": {
      "image/png": "[encoded data removed]",
      "text/plain": [
       "<Figure size 432x288 with 1 Axes>"
      ]
     },
     "metadata": {
      "needs_background": "light"
     },
     "output_type": "display_data"
    }
   ],
   "source": [
    "dte.plot.scatter(x='dt', y='AverageTemperature', title='');\n"
   ]
  },
  {
   "cell_type": "markdown",
   "id": "5944050e",
   "metadata": {},
   "source": [
    "### I created a linear regression model and performed the machine learning steps"
   ]
  },
  {
   "cell_type": "code",
   "execution_count": 9,
   "id": "92fff760",
   "metadata": {},
   "outputs": [],
   "source": [
    "from sklearn.linear_model import LinearRegression\n",
    "regressor = LinearRegression()\n"
   ]
  },
  {
   "cell_type": "code",
   "execution_count": 10,
   "id": "918ef450",
   "metadata": {},
   "outputs": [],
   "source": [
    "X = dte.iloc[:, dte.columns != 'AverageTemperature'].values\n",
    "y = dte.iloc[:, dte.columns == 'AverageTemperature'].values"
   ]
  },
  {
   "cell_type": "code",
   "execution_count": 11,
   "id": "db99094b",
   "metadata": {},
   "outputs": [],
   "source": [
    "from sklearn.model_selection import train_test_split\n",
    "X_train, X_test, y_train, y_test = train_test_split(X, y, train_size = 0.7)"
   ]
  },
  {
   "cell_type": "code",
   "execution_count": 12,
   "id": "e53f8c01",
   "metadata": {},
   "outputs": [],
   "source": [
    "#X_train"
   ]
  },
  {
   "cell_type": "code",
   "execution_count": 13,
   "id": "d82f83b2",
   "metadata": {},
   "outputs": [],
   "source": [
    "#y_train"
   ]
  },
  {
   "cell_type": "code",
   "execution_count": 14,
   "id": "d34dd727",
   "metadata": {},
   "outputs": [
    {
     "data": {
      "text/plain": [
       "LinearRegression()"
      ]
     },
     "execution_count": 14,
     "metadata": {},
     "output_type": "execute_result"
    }
   ],
   "source": [
    "regressor.fit(X_train, y_train)"
   ]
  },
  {
   "cell_type": "markdown",
   "id": "fd84e1cc",
   "metadata": {},
   "source": [
    "### I created predictions of X_test data according to the model"
   ]
  },
  {
   "cell_type": "code",
   "execution_count": 15,
   "id": "afa48e91",
   "metadata": {},
   "outputs": [
    {
     "data": {
      "text/plain": [
       "array([[18.54970825],\n",
       "       [13.31295845],\n",
       "       [19.49468566],\n",
       "       [11.02926305],\n",
       "       [18.03784549],\n",
       "       [17.68347896],\n",
       "       [10.1236597 ],\n",
       "       [14.61230239],\n",
       "       [14.10043963],\n",
       "       [14.53355427],\n",
       "       [12.13173669],\n",
       "       [19.65218189],\n",
       "       [13.47045469],\n",
       "       [10.55677435],\n",
       "       [10.28115594],\n",
       "       [ 9.88741535],\n",
       "       [12.36798105],\n",
       "       [16.34476097],\n",
       "       [20.32154089],\n",
       "       [16.73850155],\n",
       "       [14.33668398],\n",
       "       [19.96717436],\n",
       "       [15.99039444],\n",
       "       [12.72234757],\n",
       "       [15.47853168],\n",
       "       [19.02219695],\n",
       "       [19.80967813],\n",
       "       [13.27358439],\n",
       "       [15.04541703],\n",
       "       [13.15546222],\n",
       "       [12.87984381],\n",
       "       [14.29730992],\n",
       "       [12.24985887],\n",
       "       [20.24279277],\n",
       "       [14.84854674],\n",
       "       [16.22663879],\n",
       "       [16.93537185],\n",
       "       [19.61280783],\n",
       "       [17.6441049 ],\n",
       "       [18.74657854],\n",
       "       [16.58100532],\n",
       "       [17.28973837],\n",
       "       [17.80160114],\n",
       "       [19.17969319],\n",
       "       [17.36848649],\n",
       "       [15.55727979],\n",
       "       [17.76222708],\n",
       "       [19.84905219],\n",
       "       [15.59665385],\n",
       "       [11.61987393],\n",
       "       [17.13224214],\n",
       "       [15.87227226],\n",
       "       [17.99847143],\n",
       "       [15.20291327],\n",
       "       [16.14789067],\n",
       "       [20.36091495],\n",
       "       [15.95102038],\n",
       "       [14.45480615],\n",
       "       [15.3604095 ],\n",
       "       [20.08529654],\n",
       "       [17.09286808],\n",
       "       [11.2655074 ],\n",
       "       [14.25793586],\n",
       "       [12.09236264],\n",
       "       [15.83289821],\n",
       "       [13.62795092],\n",
       "       [13.23421034],\n",
       "       [10.83239276],\n",
       "       [15.16353921],\n",
       "       [19.77030407],\n",
       "       [13.90356933],\n",
       "       [10.47802623],\n",
       "       [16.10851662],\n",
       "       [17.1716162 ],\n",
       "       [11.54112581],\n",
       "       [10.67489652],\n",
       "       [18.7859526 ],\n",
       "       [13.03734004],\n",
       "       [16.65975344],\n",
       "       [19.69155595],\n",
       "       [10.24178188]])"
      ]
     },
     "execution_count": 15,
     "metadata": {},
     "output_type": "execute_result"
    }
   ],
   "source": [
    "y_pred = regressor.predict(X_test)\n",
    "y_pred"
   ]
  },
  {
   "cell_type": "code",
   "execution_count": 16,
   "id": "a4ded86a",
   "metadata": {},
   "outputs": [],
   "source": [
    "X_train = X_train.astype('float64')\n",
    "y_train = y_train.astype('float64')\n",
    "X_test = X_test.astype('float64')\n",
    "y_test = y_test.astype('float64')"
   ]
  },
  {
   "cell_type": "code",
   "execution_count": 17,
   "id": "5b004038",
   "metadata": {},
   "outputs": [
    {
     "data": {
      "image/png": "[encoded data removed]",
      "text/plain": [
       "<Figure size 432x288 with 1 Axes>"
      ]
     },
     "metadata": {
      "needs_background": "light"
     },
     "output_type": "display_data"
    }
   ],
   "source": [
    "x_pred = regressor.predict(X_train)\n",
    "\n",
    "# Visualising the training set results\n",
    "plt.scatter(X_train, y_train, color = 'green')\n",
    "plt.plot(X_train, x_pred, color = 'blue')\n",
    "plt.title('Average Global Temperature (Training Set)')\n",
    "plt.xlabel('Year')\n",
    "plt.ylabel('Temperatre (c)')\n",
    "plt.show()"
   ]
  },
  {
   "cell_type": "code",
   "execution_count": 18,
   "id": "8a081c3f",
   "metadata": {},
   "outputs": [
    {
     "data": {
      "image/png": "[encoded data removed]",
      "text/plain": [
       "<Figure size 432x288 with 1 Axes>"
      ]
     },
     "metadata": {
      "needs_background": "light"
     },
     "output_type": "display_data"
    }
   ],
   "source": [
    "# Visualising the test set results\n",
    "plt.scatter(X_test, y_test, color = 'red')\n",
    "plt.plot(X_train, regressor.predict(X_train), color = 'blue')\n",
    "plt.title('Average Global Temperature (Test set)')\n",
    "plt.xlabel('Year')\n",
    "plt.ylabel('Temperature(c)')\n",
    "plt.show()"
   ]
  },
  {
   "cell_type": "code",
   "execution_count": 19,
   "id": "554988d9",
   "metadata": {},
   "outputs": [
    {
     "data": {
      "text/plain": [
       "array([[21.93587729]])"
      ]
     },
     "execution_count": 19,
     "metadata": {},
     "output_type": "execute_result"
    }
   ],
   "source": [
    "# Building the predictor\n",
    "X_predict = [2050] # Enter the year that you require the temperature for make predict\n",
    "X_predict = np.array(X_predict).reshape(1, -1)\n",
    "y_predict = regressor.predict(X_predict)\n",
    "\n",
    "# Outputting the predicted temperature of the year above\n",
    "y_predict"
   ]
  },
  {
   "cell_type": "code",
   "execution_count": 20,
   "id": "295fc283",
   "metadata": {},
   "outputs": [
    {
     "data": {
      "text/plain": [
       "array([[2050]])"
      ]
     },
     "execution_count": 20,
     "metadata": {},
     "output_type": "execute_result"
    }
   ],
   "source": [
    "X_predict"
   ]
  },
  {
   "cell_type": "code",
   "execution_count": 21,
   "id": "b4eb1121",
   "metadata": {},
   "outputs": [
    {
     "data": {
      "image/png": "[encoded data removed]",
      "text/plain": [
       "<Figure size 720x504 with 1 Axes>"
      ]
     },
     "metadata": {
      "needs_background": "light"
     },
     "output_type": "display_data"
    }
   ],
   "source": [
    "plt.figure(figsize=(10, 7))\n",
    "plt.scatter(X_test, y_test, color = 'red')\n",
    "plt.scatter(X_train, y_train, color = 'blue')\n",
    "#plt.scatter(X_train, regressor.predict(X_train), color = 'red')\n",
    "plt.legend\n",
    "plt.show()"
   ]
  },
  {
   "cell_type": "code",
   "execution_count": null,
   "id": "e8ba5e1e",
   "metadata": {},
   "outputs": [],
   "source": []
  },
  {
   "cell_type": "code",
   "execution_count": null,
   "id": "11a657e0",
   "metadata": {},
   "outputs": [],
   "source": []
  },
  {
   "cell_type": "code",
   "execution_count": null,
   "id": "d299cfc5",
   "metadata": {},
   "outputs": [],
   "source": []
  }
 ],
 "metadata": {
  "kernelspec": {
   "display_name": "Python 3 (ipykernel)",
   "language": "python",
   "name": "python3"
  },
  "language_info": {
   "codemirror_mode": {
    "name": "ipython",
    "version": 3
   },
   "file_extension": ".py",
   "mimetype": "text/x-python",
   "name": "python",
   "nbconvert_exporter": "python",
   "pygments_lexer": "ipython3",
   "version": "3.9.12"
  }
 },
 "nbformat": 4,
 "nbformat_minor": 5
}
